{
 "cells": [
  {
   "cell_type": "markdown",
   "metadata": {},
   "source": [
    "### 1.1 Приведение фала .txt в форму удобную для работы с ним "
   ]
  },
  {
   "cell_type": "code",
   "execution_count": 86,
   "metadata": {},
   "outputs": [],
   "source": [
    "import numpy as np\n",
    "import pandas as pd\n",
    "\n",
    "def rewriteData():\n",
    "    fin = open('ex2data1.txt', 'r')\n",
    "    data = fin.read()\n",
    "    data = data.replace(',', '   ')\n",
    "    fin.close()\n",
    "\n",
    "    fin = open('ex2data1.txt', 'w')\n",
    "    fin.write(data)\n",
    "    fin.close()"
   ]
  },
  {
   "cell_type": "code",
   "execution_count": 87,
   "metadata": {},
   "outputs": [],
   "source": [
    "data = np.loadtxt('ex2data1.txt')"
   ]
  },
  {
   "cell_type": "markdown",
   "metadata": {},
   "source": [
    "### 1.2 Получение индексов примеров с меткой 1 и меткой 0"
   ]
  },
  {
   "cell_type": "code",
   "execution_count": 88,
   "metadata": {},
   "outputs": [],
   "source": [
    "X = data[:, 0:2]\n",
    "y = data[:, 2]\n",
    "\n",
    "\n",
    "positive_index = np.where(y == 1)\n",
    "negative_index = np.where(y == 0)"
   ]
  },
  {
   "cell_type": "markdown",
   "metadata": {},
   "source": [
    "### 1.3 Построение графика с тренировочными данными"
   ]
  },
  {
   "cell_type": "code",
   "execution_count": 89,
   "metadata": {},
   "outputs": [
    {
     "data": {
      "image/png": "[encoded data removed]",
      "text/plain": [
       "<Figure size 432x288 with 1 Axes>"
      ]
     },
     "metadata": {
      "needs_background": "light"
     },
     "output_type": "display_data"
    }
   ],
   "source": [
    "import matplotlib.pyplot as plt\n",
    "\n",
    "\n",
    "plt.plot(X[positive_index, 0], X[positive_index, 1], 'rx')\n",
    "plt.plot(X[negative_index, 0], X[negative_index, 1], 'bx')\n",
    "plt.show()"
   ]
  },
  {
   "cell_type": "markdown",
   "metadata": {},
   "source": [
    "### 1.3 Работа над данными"
   ]
  },
  {
   "cell_type": "markdown",
   "metadata": {},
   "source": [
    "Перед нами стоит задачи классификации, поэтому в качестве алгоритма выберем логистическую регрессию.\n",
    "Наша гипотеза выглядит следущим образом:  $ h_\\theta(x^{(i)}) = g(\\theta_0 * x_0^{(i)} + \\theta_1 * x_1^{(i)} + \\theta_2 * x_2^{(i)}) = \\frac{1} {(1 + e^{-(\\theta_0 * x_0^{(i)} + \\theta_1 * x_1^{(i)} + \\theta_2 * x_2^{(i)})})} \\\\ $  \n",
    "\n",
    "Можно записать иначе: $h_\\theta(x^{(i)}) = g(\\theta^{T} * x^{(i)}) = \\frac{1} {(1 + e^{(-\\theta^{T} * x^{(i)})})}$"
   ]
  },
  {
   "cell_type": "markdown",
   "metadata": {},
   "source": [
    "Добавим в матрицу X дополнительный столбец $x_0 = 1$ для удобства выполнения операций над матрицами. Добавим начальные значения вектора $\\theta$"
   ]
  },
  {
   "cell_type": "code",
   "execution_count": 90,
   "metadata": {},
   "outputs": [],
   "source": [
    "import numpy as np\n",
    "N = 10\n",
    "a = np.ones((X.shape[0], 1))\n",
    "new_X = np.ones((X.shape[0],3))\n",
    "new_X[:,1:3] = X\n",
    "\n",
    "theta = np.zeros((new_X.shape[1], 1))"
   ]
  },
  {
   "attachments": {
    "image.png": {
     "image/png": "[encoded data removed]"
    }
   },
   "cell_type": "markdown",
   "metadata": {},
   "source": [
    "По скольку мы используем логистическую регрессию, то мы будем использовать сигмоиндную функцию: ![image.png](attachment:image.png)"
   ]
  },
  {
   "cell_type": "markdown",
   "metadata": {},
   "source": [
    "Реализация сигмоидной функции"
   ]
  },
  {
   "cell_type": "code",
   "execution_count": 91,
   "metadata": {},
   "outputs": [],
   "source": [
    "def sigmoidFunction(z):\n",
    "    \n",
    "    g = np.divide(1, 1 + np.exp(-z))\n",
    "\n",
    "    return g"
   ]
  },
  {
   "cell_type": "markdown",
   "metadata": {},
   "source": [
    "Перед нами стоит задача классификации, поэтому в качестве функции потерь будем использовать функцию следующего вида: $J(\\theta_0, \\theta_1, \\theta_2) = \\frac {1} {m}\\sum_{i = 1}^{m} {(-y^{(i)} * \\ln(h_\\theta(x^{(i)})) - (1 - y^{(i)}) * \\ln(1 - h_\\theta(x^{(i)}))} \\\\ $. Данная функция в качестве параметров принимает начальное значение вектора $\\theta$, матрицу с признаками $X$ и метки для примеров $y$. Возвращает функция значение функции потерь - $J\\underline\\ value$ и градиент - $gradient$"
   ]
  },
  {
   "cell_type": "code",
   "execution_count": 92,
   "metadata": {},
   "outputs": [],
   "source": [
    "def costFunction(theta, X, y):\n",
    "    \n",
    "    \n",
    "    \n",
    "    \n",
    "    temp1 = X.dot(theta)\n",
    "    \n",
    "    temp2 = sigmoidFunction(temp1)\n",
    "    temp3 = np.log(temp2)\n",
    "    temp4 = -y @ temp3 #np.multiply(-y, temp3) temp4 = #np.multiply(-y, temp3)\n",
    "    \n",
    "    \n",
    "    temp5 = np.log(1 - temp2)\n",
    "    new_y = 1 - y\n",
    "    temp6 =  new_y @ temp5 #np.multiply(new_y, temp5) #new_y @ temp5\n",
    "    \n",
    "    temp7 = temp4 - temp6\n",
    "    \n",
    "    temp8 = np.sum(temp7, 0)\n",
    "    J_value = temp8 / X.shape[0]       #compute CostFunctoin - J_value\n",
    "\n",
    "    # Compute gradient\n",
    "    \n",
    "    temp9 = np.subtract(np.transpose(temp2), y)\n",
    "    temp10 = np.transpose(temp9)\n",
    "    temp11 = np.transpose(new_X).dot(temp10)\n",
    "    gradient = temp11 / new_X.shape[0]\n",
    "\n",
    "    \n",
    "    \n",
    "    return   J_value, gradient# chanhe J_value"
   ]
  },
  {
   "cell_type": "markdown",
   "metadata": {},
   "source": [
    "В качестве алгоритма оптимизации был выбран TNC. Был импортирован из библиотеки SciPy. На выходе мы получаем вектор $\\theta$ значения, которого соответствуют минимому или точке близкой к минимому фнкции потерь и количество итераций, которое потребовалось для того, чтобы достичь минимума."
   ]
  },
  {
   "cell_type": "code",
   "execution_count": 93,
   "metadata": {},
   "outputs": [],
   "source": [
    "import scipy.optimize as op\n",
    "\n",
    "J_value, gradient = costFunction(theta, new_X, y)\n",
    "result = op.fmin_tnc(func = costFunction, x0 = theta.flatten(), args=(new_X, y))\n",
    "new_theta = result[0]"
   ]
  },
  {
   "cell_type": "markdown",
   "metadata": {},
   "source": [
    "Теперь мы находим минимальное и максимальное значение по оси $x_1$ для того, чтобы взуализировать найденную границу решений."
   ]
  },
  {
   "cell_type": "code",
   "execution_count": 94,
   "metadata": {},
   "outputs": [],
   "source": [
    "minimum = new_X[0, 1]\n",
    "index_min = 0\n",
    "maximum = new_X[0, 1]\n",
    "index_max = 0\n",
    "for x in range(new_X.shape[0]):\n",
    "    if new_X[x, 1] <= minimum:\n",
    "        minimum = new_X[x, 1]\n",
    "        index_min = x\n",
    "    if new_X[x, 1] >= maximum:\n",
    "        maximum = new_X[x, 1]\n",
    "        index_max = x"
   ]
  },
  {
   "cell_type": "markdown",
   "metadata": {},
   "source": [
    "Нахождение значений по $x_2$, использую формулу: $x_2 = \\frac {(-\\theta_0 - \\theta_1 * x_1)}  {\\theta_2} \\\\ $. После найденных значений $x_2$ строим границу решений - прямая."
   ]
  },
  {
   "cell_type": "code",
   "execution_count": 95,
   "metadata": {},
   "outputs": [
    {
     "data": {
      "image/png": "[encoded data removed]",
      "text/plain": [
       "<Figure size 432x288 with 1 Axes>"
      ]
     },
     "metadata": {
      "needs_background": "light"
     },
     "output_type": "display_data"
    }
   ],
   "source": [
    "# y = theta0 + theta1 * x1 + theta2 * x2; -theta2*x2 = theta0 + theta1 * x1; x2 = (-theta0 - theta1 * x1) / theta2\n",
    "\n",
    "x_line = np.array([minimum, maximum])\n",
    "\n",
    "temp1 = (-new_theta[0] - new_theta[1] * x_line[0]) / new_theta[2]\n",
    "temp2 = (-new_theta[0] - new_theta[1] * x_line[1]) / new_theta[2]\n",
    "\n",
    "\n",
    "\n",
    "plt.plot(x_line, [temp1, temp2])\n",
    "plt.plot(X[positive_index, 0], X[positive_index, 1], 'rx')\n",
    "plt.plot(X[negative_index, 0], X[negative_index, 1], 'bx')\n",
    "plt.show()"
   ]
  }
 ],
 "metadata": {
  "kernelspec": {
   "display_name": "Python 3",
   "language": "python",
   "name": "python3"
  },
  "language_info": {
   "codemirror_mode": {
    "name": "ipython",
    "version": 3
   },
   "file_extension": ".py",
   "mimetype": "text/x-python",
   "name": "python",
   "nbconvert_exporter": "python",
   "pygments_lexer": "ipython3",
   "version": "3.8.3"
  }
 },
 "nbformat": 4,
 "nbformat_minor": 4
}
